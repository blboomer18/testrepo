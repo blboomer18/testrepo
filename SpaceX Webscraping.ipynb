{
 "cells": [
  {
   "cell_type": "markdown",
   "metadata": {},
   "source": [
    "<p style=\"text-align:center\">\n",
    "    <a href=\"https://skills.network\" target=\"_blank\">\n",
    "    <img src=\"https://cf-courses-data.s3.us.cloud-object-storage.appdomain.cloud/assets/logos/SN_web_lightmode.png\" width=\"200\" alt=\"Skills Network Logo\">\n",
    "    </a>\n",
    "</p>\n"
   ]
  },
  {
   "cell_type": "markdown",
   "metadata": {},
   "source": [
    "# **Space X  Falcon 9 First Stage Landing Prediction**\n"
   ]
  },
  {
   "cell_type": "markdown",
   "metadata": {},
   "source": [
    "## Web scraping Falcon 9 and Falcon Heavy Launches Records from Wikipedia\n"
   ]
  },
  {
   "cell_type": "markdown",
   "metadata": {},
   "source": [
    "Estimated time needed: **40** minutes\n"
   ]
  },
  {
   "cell_type": "markdown",
   "metadata": {},
   "source": [
    "In this lab, you will be performing web scraping to collect Falcon 9 historical launch records from a Wikipedia page titled `List of Falcon 9 and Falcon Heavy launches`\n",
    "\n",
    "https://en.wikipedia.org/wiki/List_of_Falcon_9_and_Falcon_Heavy_launches\n"
   ]
  },
  {
   "cell_type": "markdown",
   "metadata": {},
   "source": [
    "![](https://cf-courses-data.s3.us.cloud-object-storage.appdomain.cloud/IBM-DS0321EN-SkillsNetwork/labs/module_1_L2/images/Falcon9_rocket_family.svg)\n"
   ]
  },
  {
   "cell_type": "markdown",
   "metadata": {},
   "source": [
    "Falcon 9 first stage will land successfully\n"
   ]
  },
  {
   "cell_type": "markdown",
   "metadata": {},
   "source": [
    "![](https://cf-courses-data.s3.us.cloud-object-storage.appdomain.cloud/IBMDeveloperSkillsNetwork-DS0701EN-SkillsNetwork/api/Images/landing_1.gif)\n"
   ]
  },
  {
   "cell_type": "markdown",
   "metadata": {},
   "source": [
    "Several examples of an unsuccessful landing are shown here:\n"
   ]
  },
  {
   "cell_type": "markdown",
   "metadata": {},
   "source": [
    "![](https://cf-courses-data.s3.us.cloud-object-storage.appdomain.cloud/IBMDeveloperSkillsNetwork-DS0701EN-SkillsNetwork/api/Images/crash.gif)\n"
   ]
  },
  {
   "cell_type": "markdown",
   "metadata": {},
   "source": [
    "More specifically, the launch records are stored in a HTML table shown below:\n"
   ]
  },
  {
   "cell_type": "markdown",
   "metadata": {},
   "source": [
    "![](https://cf-courses-data.s3.us.cloud-object-storage.appdomain.cloud/IBM-DS0321EN-SkillsNetwork/labs/module_1_L2/images/falcon9-launches-wiki.png)\n"
   ]
  },
  {
   "cell_type": "markdown",
   "metadata": {},
   "source": [
    "  ## Objectives\n",
    "Web scrap Falcon 9 launch records with `BeautifulSoup`: \n",
    "- Extract a Falcon 9 launch records HTML table from Wikipedia\n",
    "- Parse the table and convert it into a Pandas data frame\n"
   ]
  },
  {
   "cell_type": "markdown",
   "metadata": {},
   "source": [
    "First let's import required packages for this lab\n"
   ]
  },
  {
   "cell_type": "code",
   "execution_count": 1,
   "metadata": {
    "tags": []
   },
   "outputs": [
    {
     "name": "stdout",
     "output_type": "stream",
     "text": [
      "Requirement already satisfied: beautifulsoup4 in /home/jupyterlab/conda/envs/python/lib/python3.7/site-packages (4.11.1)\n",
      "Requirement already satisfied: soupsieve>1.2 in /home/jupyterlab/conda/envs/python/lib/python3.7/site-packages (from beautifulsoup4) (2.3.2.post1)\n",
      "Requirement already satisfied: requests in /home/jupyterlab/conda/envs/python/lib/python3.7/site-packages (2.29.0)\n",
      "Requirement already satisfied: charset-normalizer<4,>=2 in /home/jupyterlab/conda/envs/python/lib/python3.7/site-packages (from requests) (3.1.0)\n",
      "Requirement already satisfied: idna<4,>=2.5 in /home/jupyterlab/conda/envs/python/lib/python3.7/site-packages (from requests) (3.4)\n",
      "Requirement already satisfied: urllib3<1.27,>=1.21.1 in /home/jupyterlab/conda/envs/python/lib/python3.7/site-packages (from requests) (1.26.15)\n",
      "Requirement already satisfied: certifi>=2017.4.17 in /home/jupyterlab/conda/envs/python/lib/python3.7/site-packages (from requests) (2023.5.7)\n"
     ]
    }
   ],
   "source": [
    "!pip3 install beautifulsoup4\n",
    "!pip3 install requests"
   ]
  },
  {
   "cell_type": "code",
   "execution_count": 2,
   "metadata": {
    "tags": []
   },
   "outputs": [],
   "source": [
    "import sys\n",
    "\n",
    "import requests\n",
    "from bs4 import BeautifulSoup\n",
    "import re\n",
    "import unicodedata\n",
    "import pandas as pd"
   ]
  },
  {
   "cell_type": "markdown",
   "metadata": {},
   "source": [
    "and we will provide some helper functions for you to process web scraped HTML table\n"
   ]
  },
  {
   "cell_type": "code",
   "execution_count": 3,
   "metadata": {
    "tags": []
   },
   "outputs": [],
   "source": [
    "def date_time(table_cells):\n",
    "    \"\"\"\n",
    "    This function returns the data and time from the HTML  table cell\n",
    "    Input: the  element of a table data cell extracts extra row\n",
    "    \"\"\"\n",
    "    return [data_time.strip() for data_time in list(table_cells.strings)][0:2]\n",
    "\n",
    "def booster_version(table_cells):\n",
    "    \"\"\"\n",
    "    This function returns the booster version from the HTML  table cell \n",
    "    Input: the  element of a table data cell extracts extra row\n",
    "    \"\"\"\n",
    "    out=''.join([booster_version for i,booster_version in enumerate( table_cells.strings) if i%2==0][0:-1])\n",
    "    return out\n",
    "\n",
    "def landing_status(table_cells):\n",
    "    \"\"\"\n",
    "    This function returns the landing status from the HTML table cell \n",
    "    Input: the  element of a table data cell extracts extra row\n",
    "    \"\"\"\n",
    "    out=[i for i in table_cells.strings][0]\n",
    "    return out\n",
    "\n",
    "\n",
    "def get_mass(table_cells):\n",
    "    mass=unicodedata.normalize(\"NFKD\", table_cells.text).strip()\n",
    "    if mass:\n",
    "        mass.find(\"kg\")\n",
    "        new_mass=mass[0:mass.find(\"kg\")+2]\n",
    "    else:\n",
    "        new_mass=0\n",
    "    return new_mass\n",
    "\n",
    "\n",
    "def extract_column_from_header(row):\n",
    "    \"\"\"\n",
    "    This function returns the landing status from the HTML table cell \n",
    "    Input: the  element of a table data cell extracts extra row\n",
    "    \"\"\"\n",
    "    if (row.br):\n",
    "        row.br.extract()\n",
    "    if row.a:\n",
    "        row.a.extract()\n",
    "    if row.sup:\n",
    "        row.sup.extract()\n",
    "        \n",
    "    colunm_name = ' '.join(row.contents)\n",
    "    \n",
    "    # Filter the digit and empty names\n",
    "    if not(colunm_name.strip().isdigit()):\n",
    "        colunm_name = colunm_name.strip()\n",
    "        return colunm_name    \n"
   ]
  },
  {
   "cell_type": "markdown",
   "metadata": {},
   "source": [
    "To keep the lab tasks consistent, you will be asked to scrape the data from a snapshot of the  `List of Falcon 9 and Falcon Heavy launches` Wikipage updated on\n",
    "`9th June 2021`\n"
   ]
  },
  {
   "cell_type": "code",
   "execution_count": 4,
   "metadata": {
    "tags": []
   },
   "outputs": [],
   "source": [
    "static_url = \"https://en.wikipedia.org/w/index.php?title=List_of_Falcon_9_and_Falcon_Heavy_launches&oldid=1027686922\""
   ]
  },
  {
   "cell_type": "markdown",
   "metadata": {},
   "source": [
    "Next, request the HTML page from the above URL and get a `response` object\n"
   ]
  },
  {
   "cell_type": "markdown",
   "metadata": {},
   "source": [
    "### TASK 1: Request the Falcon9 Launch Wiki page from its URL\n"
   ]
  },
  {
   "cell_type": "markdown",
   "metadata": {},
   "source": [
    "First, let's perform an HTTP GET method to request the Falcon9 Launch HTML page, as an HTTP response.\n"
   ]
  },
  {
   "cell_type": "code",
   "execution_count": 5,
   "metadata": {
    "tags": []
   },
   "outputs": [
    {
     "name": "stdout",
     "output_type": "stream",
     "text": [
      "Request successful\n"
     ]
    }
   ],
   "source": [
    "# use requests.get() method with the provided static_url\n",
    "# assign the response to a object\n",
    "\n",
    "import requests\n",
    "\n",
    "# URL of the Falcon9 Launch Wiki page\n",
    "static_url = 'https://en.wikipedia.org/wiki/Falcon_9'  # Replace with the correct URL if needed\n",
    "\n",
    "# Perform the HTTP GET request and store the response\n",
    "response = requests.get(static_url)\n",
    "\n",
    "# Check if the request was successful (status code 200)\n",
    "if response.status_code == 200:\n",
    "    print(\"Request successful\")\n",
    "else:\n",
    "    print(f\"Request failed with status code: {response.status_code}\")\n"
   ]
  },
  {
   "cell_type": "markdown",
   "metadata": {},
   "source": [
    "Create a `BeautifulSoup` object from the HTML `response`\n"
   ]
  },
  {
   "cell_type": "code",
   "execution_count": 6,
   "metadata": {
    "tags": []
   },
   "outputs": [
    {
     "name": "stdout",
     "output_type": "stream",
     "text": [
      "Request successful\n",
      "Falcon 9 - Wikipedia\n"
     ]
    }
   ],
   "source": [
    "# Use BeautifulSoup() to create a BeautifulSoup object from a response text content\n",
    "\n",
    "import requests\n",
    "from bs4 import BeautifulSoup\n",
    "\n",
    "# URL of the Falcon9 Launch Wiki page\n",
    "static_url = 'https://en.wikipedia.org/wiki/Falcon_9'  # Replace with the correct URL if needed\n",
    "\n",
    "# Perform the HTTP GET request and store the response\n",
    "response = requests.get(static_url)\n",
    "\n",
    "# Check if the request was successful (status code 200)\n",
    "if response.status_code == 200:\n",
    "    print(\"Request successful\")\n",
    "    \n",
    "    # Create a BeautifulSoup object to parse the HTML content\n",
    "    soup = BeautifulSoup(response.text, 'html.parser')\n",
    "    \n",
    "    # Now you can work with the 'soup' object to extract data from the HTML page\n",
    "    # For example, print the title of the page\n",
    "    print(soup.title.text)\n",
    "else:\n",
    "    print(f\"Request failed with status code: {response.status_code}\")\n"
   ]
  },
  {
   "cell_type": "markdown",
   "metadata": {},
   "source": [
    "Print the page title to verify if the `BeautifulSoup` object was created properly \n"
   ]
  },
  {
   "cell_type": "code",
   "execution_count": 7,
   "metadata": {
    "tags": []
   },
   "outputs": [
    {
     "name": "stdout",
     "output_type": "stream",
     "text": [
      "Request successful\n",
      "Falcon 9 - Wikipedia\n"
     ]
    }
   ],
   "source": [
    "# Use soup.title attribute\n",
    "import requests\n",
    "from bs4 import BeautifulSoup\n",
    "\n",
    "# URL of the Falcon9 Launch Wiki page\n",
    "static_url = 'https://en.wikipedia.org/wiki/Falcon_9'  # Replace with the correct URL if needed\n",
    "\n",
    "# Perform the HTTP GET request and store the response\n",
    "response = requests.get(static_url)\n",
    "\n",
    "# Check if the request was successful (status code 200)\n",
    "if response.status_code == 200:\n",
    "    print(\"Request successful\")\n",
    "    \n",
    "    # Create a BeautifulSoup object to parse the HTML content\n",
    "    soup = BeautifulSoup(response.text, 'html.parser')\n",
    "    \n",
    "    # Print the page title\n",
    "    print(soup.title.text)  # This will print the title of the page\n",
    "else:\n",
    "    print(f\"Request failed with status code: {response.status_code}\")\n"
   ]
  },
  {
   "cell_type": "markdown",
   "metadata": {},
   "source": [
    "### TASK 2: Extract all column/variable names from the HTML table header\n"
   ]
  },
  {
   "cell_type": "markdown",
   "metadata": {},
   "source": [
    "Next, we want to collect all relevant column names from the HTML table header\n"
   ]
  },
  {
   "cell_type": "markdown",
   "metadata": {},
   "source": [
    "Let's try to find all tables on the wiki page first. If you need to refresh your memory about `BeautifulSoup`, please check the external reference link towards the end of this lab\n"
   ]
  },
  {
   "cell_type": "code",
   "execution_count": 8,
   "metadata": {
    "tags": []
   },
   "outputs": [
    {
     "name": "stdout",
     "output_type": "stream",
     "text": [
      "Request successful\n",
      "Found 25 tables.\n",
      "<table class=\"infobox hproduct\"><caption class=\"infobox-title\">Falcon 9</caption><tbody><tr><td class=\"infobox-image\" colspan=\"2\"><span class=\"mw-default-size\" typeof=\"mw:File/Frameless\"><a class=\"mw-file-description\" href=\"/wiki/File:Falcon_9_logo.svg\"><img alt=\"Logo of the Falcon 9\" class=\"mw-file-element\" data-file-height=\"162\" data-file-width=\"230\" decoding=\"async\" height=\"49\" src=\"//upload.wikimedia.org/wikipedia/commons/thumb/a/a9/Falcon_9_logo.svg/70px-Falcon_9_logo.svg.png\" srcset=\"//upload.wikimedia.org/wikipedia/commons/thumb/a/a9/Falcon_9_logo.svg/105px-Falcon_9_logo.svg.png 1.5x, //upload.wikimedia.org/wikipedia/commons/thumb/a/a9/Falcon_9_logo.svg/140px-Falcon_9_logo.svg.png 2x\" width=\"70\"/></a></span></td></tr><tr><td class=\"infobox-image\" colspan=\"2\"><span class=\"mw-default-size\" typeof=\"mw:File/Frameless\"><a class=\"mw-file-description\" href=\"/wiki/File:SpaceX_Demo-2_Launch_(NHQ202005300044)_(cropped).jpg\"><img alt=\"Ground-level view of a Falcon 9 lifting off from its launch pad\" class=\"mw-file-element\" data-file-height=\"3486\" data-file-width=\"2918\" decoding=\"async\" height=\"263\" src=\"//upload.wikimedia.org/wikipedia/commons/thumb/2/2b/SpaceX_Demo-2_Launch_%28NHQ202005300044%29_%28cropped%29.jpg/220px-SpaceX_Demo-2_Launch_%28NHQ202005300044%29_%28cropped%29.jpg\" srcset=\"//upload.wikimedia.org/wikipedia/commons/thumb/2/2b/SpaceX_Demo-2_Launch_%28NHQ202005300044%29_%28cropped%29.jpg/330px-SpaceX_Demo-2_Launch_%28NHQ202005300044%29_%28cropped%29.jpg 1.5x, //upload.wikimedia.org/wikipedia/commons/thumb/2/2b/SpaceX_Demo-2_Launch_%28NHQ202005300044%29_%28cropped%29.jpg/440px-SpaceX_Demo-2_Launch_%28NHQ202005300044%29_%28cropped%29.jpg 2x\" width=\"220\"/></a></span><div class=\"infobox-caption\"><a href=\"/wiki/Falcon_9_B1058\" title=\"Falcon 9 B1058\">Falcon 9 B1058</a> lifting off from <a href=\"/wiki/Kennedy_Space_Center_Launch_Complex_39A\" title=\"Kennedy Space Center Launch Complex 39A\">Kennedy LC-39A</a>, carrying <a href=\"/wiki/Crew_Dragon_Demo-2\" title=\"Crew Dragon Demo-2\">Demo-2</a></div></td></tr><tr><th class=\"infobox-label\" scope=\"row\">Function</th><td class=\"infobox-data\"><a href=\"/wiki/Medium-lift_launch_vehicle\" title=\"Medium-lift launch vehicle\">Medium-lift launch vehicle</a></td></tr><tr><th class=\"infobox-label\" scope=\"row\">Manufacturer</th><td class=\"infobox-data brand\"><a href=\"/wiki/SpaceX\" title=\"SpaceX\">SpaceX</a></td></tr><tr><th class=\"infobox-label\" scope=\"row\">Country of origin</th><td class=\"infobox-data\"><a href=\"/wiki/United_States\" title=\"United States\">United States</a></td></tr><tr><th class=\"infobox-label\" scope=\"row\">Cost per launch</th><td class=\"infobox-data\">US$69.75 million (2024)<sup class=\"reference\" id=\"cite_ref-spacex-capabilities_1-0\"><a href=\"#cite_note-spacex-capabilities-1\"><span class=\"cite-bracket\">[</span>1<span class=\"cite-bracket\">]</span></a></sup></td></tr><tr><th class=\"infobox-header\" colspan=\"2\" style=\"background: #ccf;\">Size</th></tr><tr><th class=\"infobox-label\" scope=\"row\">Height</th><td class=\"infobox-data\"><style data-mw-deduplicate=\"TemplateStyles:r1126788409\">.mw-parser-output .plainlist ol,.mw-parser-output .plainlist ul{line-height:inherit;list-style:none;margin:0;padding:0}.mw-parser-output .plainlist ol li,.mw-parser-output .plainlist ul li{margin-bottom:0}</style><div class=\"plainlist\">\n",
      "<ul><li><b><a href=\"/wiki/Falcon_9_Full_Thrust\" title=\"Falcon 9 Full Thrust\">FT</a></b>: 69.8 m (229 ft) with Payload Fairing 65.7 m (216 ft) with <a href=\"/wiki/SpaceX_Dragon_2\" title=\"SpaceX Dragon 2\">Crew Dragon</a> 63.7 m (209 ft) with <a href=\"/wiki/SpaceX_Dragon_1\" title=\"SpaceX Dragon 1\">Dragon</a><sup class=\"reference\" id=\"cite_ref-falcon9-2015_2-0\"><a href=\"#cite_note-falcon9-2015-2\"><span class=\"cite-bracket\">[</span>2<span class=\"cite-bracket\">]</span></a></sup></li>\n",
      "<li><b><a href=\"/wiki/Falcon_9_v1.1\" title=\"Falcon 9 v1.1\">v1.1</a></b>: 68.4 m (224 ft) with Payload Fairing 63.4 m (208 ft) with <a href=\"/wiki/SpaceX_Dragon_1\" title=\"SpaceX Dragon 1\">Dragon</a><sup class=\"reference\" id=\"cite_ref-falcon9-2013_3-0\"><a href=\"#cite_note-falcon9-2013-3\"><span class=\"cite-bracket\">[</span>3<span class=\"cite-bracket\">]</span></a></sup></li>\n",
      "<li><b><a href=\"/wiki/Falcon_9_v1.0\" title=\"Falcon 9 v1.0\">v1.0</a></b>: 54.9 m (180 ft) with Payload Fairing 47.8 m (157 ft) with Dragon<sup class=\"reference\" id=\"cite_ref-falcon9-2010_4-0\"><a href=\"#cite_note-falcon9-2010-4\"><span class=\"cite-bracket\">[</span>4<span class=\"cite-bracket\">]</span></a></sup></li></ul>\n",
      "</div></td></tr><tr><th class=\"infobox-label\" scope=\"row\">Diameter</th><td class=\"infobox-data\">3.7 m (12 ft)<sup class=\"reference\" id=\"cite_ref-falcon9-2015_2-1\"><a href=\"#cite_note-falcon9-2015-2\"><span class=\"cite-bracket\">[</span>2<span class=\"cite-bracket\">]</span></a></sup></td></tr><tr><th class=\"infobox-label\" scope=\"row\">Mass</th><td class=\"infobox-data\"><link href=\"mw-data:TemplateStyles:r1126788409\" rel=\"mw-deduplicated-inline-style\"><div class=\"plainlist\">\n",
      "<ul><li><b>FT</b>: 549,000 kg (1,210,000 lb)<sup class=\"reference\" id=\"cite_ref-falcon9-2015_2-2\"><a href=\"#cite_note-falcon9-2015-2\"><span class=\"cite-bracket\">[</span>2<span class=\"cite-bracket\">]</span></a></sup></li>\n",
      "<li><b>v1.1</b>: 506,000 kg (1,116,000 lb)<sup class=\"reference\" id=\"cite_ref-falcon9-2013_3-1\"><a href=\"#cite_note-falcon9-2013-3\"><span class=\"cite-bracket\">[</span>3<span class=\"cite-bracket\">]</span></a></sup></li>\n",
      "<li><b>v1.0</b>: 333,000 kg (734,000 lb)<sup class=\"reference\" id=\"cite_ref-falcon9-2010_4-1\"><a href=\"#cite_note-falcon9-2010-4\"><span class=\"cite-bracket\">[</span>4<span class=\"cite-bracket\">]</span></a></sup></li></ul>\n",
      "</div></link></td></tr><tr><th class=\"infobox-label\" scope=\"row\">Stages</th><td class=\"infobox-data\">2</td></tr><tr><th class=\"infobox-header\" colspan=\"2\" style=\"background: #ccf;\">Capacity\n",
      "<link href=\"mw-data:TemplateStyles:r1257001546\" rel=\"mw-deduplicated-inline-style\"/></th></tr><tr><th class=\"infobox-header\" colspan=\"2\" style=\"background:#ddf;\">Payload to <a href=\"/wiki/Low_Earth_orbit\" title=\"Low Earth orbit\">LEO</a></th></tr><tr><th class=\"infobox-label\" scope=\"row\">Orbital inclination</th><td class=\"infobox-data\">28.5°</td></tr><tr><th class=\"infobox-label\" scope=\"row\">Mass</th><td class=\"infobox-data\"><link href=\"mw-data:TemplateStyles:r1126788409\" rel=\"mw-deduplicated-inline-style\"><div class=\"plainlist\">\n",
      "<ul><li><b>FT</b>: 22,800 kg (50,300 lb)<sup class=\"reference\" id=\"cite_ref-spacex-capabilities_1-1\"><a href=\"#cite_note-spacex-capabilities-1\"><span class=\"cite-bracket\">[</span>1<span class=\"cite-bracket\">]</span></a></sup> when expended,<br/>17,500 kg (38,600 lb)<sup class=\"reference\" id=\"cite_ref-5\"><a href=\"#cite_note-5\"><span class=\"cite-bracket\">[</span>5<span class=\"cite-bracket\">]</span></a></sup> when landing on <a href=\"/wiki/Autonomous_spaceport_drone_ship\" title=\"Autonomous spaceport drone ship\">drone ship</a></li>\n",
      "<li><b>v1.1</b>: 13,100 kg (28,900 lb)<sup class=\"reference\" id=\"cite_ref-falcon9-2013_3-2\"><a href=\"#cite_note-falcon9-2013-3\"><span class=\"cite-bracket\">[</span>3<span class=\"cite-bracket\">]</span></a></sup></li>\n",
      "<li><b>v1.0</b>: 10,400 kg (22,900 lb)<sup class=\"reference\" id=\"cite_ref-falcon9-2010_4-2\"><a href=\"#cite_note-falcon9-2010-4\"><span class=\"cite-bracket\">[</span>4<span class=\"cite-bracket\">]</span></a></sup></li></ul>\n",
      "</div></link></td><link href=\"mw-data:TemplateStyles:r1257001546\" rel=\"mw-deduplicated-inline-style\"/></tr><tr><th class=\"infobox-header\" colspan=\"2\" style=\"background:#ddf;\">Payload to <a class=\"mw-redirect\" href=\"/wiki/Geosynchronous_transfer_orbit\" title=\"Geosynchronous transfer orbit\">GTO</a></th></tr><tr><th class=\"infobox-label\" scope=\"row\">Orbital inclination</th><td class=\"infobox-data\">27.0°</td></tr><tr><th class=\"infobox-label\" scope=\"row\">Mass</th><td class=\"infobox-data\"><link href=\"mw-data:TemplateStyles:r1126788409\" rel=\"mw-deduplicated-inline-style\"><div class=\"plainlist\">\n",
      "<ul><li><b>FT</b>: 8,300 kg (18,300 lb) when expended,<br/>5,500 kg (12,100 lb) when landing on <a href=\"/wiki/Autonomous_spaceport_drone_ship\" title=\"Autonomous spaceport drone ship\">drone ship</a>,<sup class=\"reference\" id=\"cite_ref-spacex-capabilities_1-2\"><a href=\"#cite_note-spacex-capabilities-1\"><span class=\"cite-bracket\">[</span>1<span class=\"cite-bracket\">]</span></a></sup><br/>3,500 kg (7,700 lb) when landing at launch site<sup class=\"reference\" id=\"cite_ref-6\"><a href=\"#cite_note-6\"><span class=\"cite-bracket\">[</span>6<span class=\"cite-bracket\">]</span></a></sup></li>\n",
      "<li><b>v1.1</b>: 4,800 kg (10,600 lb)<sup class=\"reference\" id=\"cite_ref-falcon9-2013_3-3\"><a href=\"#cite_note-falcon9-2013-3\"><span class=\"cite-bracket\">[</span>3<span class=\"cite-bracket\">]</span></a></sup></li>\n",
      "<li><b>v1.0</b>: 4,500 kg (9,900 lb)<sup class=\"reference\" id=\"cite_ref-falcon9-2010_4-3\"><a href=\"#cite_note-falcon9-2010-4\"><span class=\"cite-bracket\">[</span>4<span class=\"cite-bracket\">]</span></a></sup></li></ul>\n",
      "</div></link></td><link href=\"mw-data:TemplateStyles:r1257001546\" rel=\"mw-deduplicated-inline-style\"/></tr><tr><th class=\"infobox-header\" colspan=\"2\" style=\"background:#ddf;\">Payload to <a class=\"mw-redirect\" href=\"/wiki/Mars_transfer_orbit\" title=\"Mars transfer orbit\">Mars</a></th></tr><tr><th class=\"infobox-label\" scope=\"row\">Mass</th><td class=\"infobox-data\"><b>FT</b>: 4,020 kg (8,860 lb)<sup class=\"reference\" id=\"cite_ref-spacex-capabilities_1-3\"><a href=\"#cite_note-spacex-capabilities-1\"><span class=\"cite-bracket\">[</span>1<span class=\"cite-bracket\">]</span></a></sup></td></tr><tr style=\"display:none\"><th colspan=\"2\">\n",
      "</th></tr><tr><th class=\"infobox-header\" colspan=\"2\" style=\"background: #ccf;\">Associated rockets</th></tr><tr><th class=\"infobox-label\" scope=\"row\">Based on</th><td class=\"infobox-data\"><a href=\"/wiki/Falcon_1\" title=\"Falcon 1\">Falcon 1</a></td></tr><tr><th class=\"infobox-label\" scope=\"row\">Derivative work</th><td class=\"infobox-data\"><a href=\"/wiki/Falcon_Heavy\" title=\"Falcon Heavy\">Falcon Heavy</a></td></tr><tr><th class=\"infobox-header\" colspan=\"2\" style=\"background: #ccf;\">Launch history</th></tr><tr><th class=\"infobox-label\" scope=\"row\">Status</th><td class=\"infobox-data\"><link href=\"mw-data:TemplateStyles:r1126788409\" rel=\"mw-deduplicated-inline-style\"><div class=\"plainlist\">\n",
      "<ul><li><b><a href=\"/wiki/Falcon_9_Block_5\" title=\"Falcon 9 Block 5\">FT Block 5</a></b>: Active<sup class=\"reference\" id=\"cite_ref-7\"><a href=\"#cite_note-7\"><span class=\"cite-bracket\">[</span>7<span class=\"cite-bracket\">]</span></a></sup></li>\n",
      "<li><b>FT Block 4</b>: Retired</li>\n",
      "<li><b><a href=\"/wiki/Falcon_9_Full_Thrust\" title=\"Falcon 9 Full Thrust\">FT</a></b>: Retired</li>\n",
      "<li><b><a href=\"/wiki/Falcon_9_v1.1\" title=\"Falcon 9 v1.1\">v1.1</a></b>: Retired</li>\n",
      "<li><b><a href=\"/wiki/Falcon_9_v1.0\" title=\"Falcon 9 v1.0\">v1.0</a></b>: Retired</li></ul>\n",
      "</div></link></td></tr><tr><th class=\"infobox-label\" scope=\"row\">Launch sites</th><td class=\"infobox-data\"><link href=\"mw-data:TemplateStyles:r1126788409\" rel=\"mw-deduplicated-inline-style\"><div class=\"plainlist\">\n",
      "<ul><li><a class=\"mw-redirect\" href=\"/wiki/Cape_Canaveral_Air_Force_Station\" title=\"Cape Canaveral Air Force Station\">Cape Canaveral</a>, <a href=\"/wiki/Cape_Canaveral_Space_Launch_Complex_40\" title=\"Cape Canaveral Space Launch Complex 40\">SLC-40</a></li>\n",
      "<li><a href=\"/wiki/Kennedy_Space_Center\" title=\"Kennedy Space Center\">Kennedy</a>, <a href=\"/wiki/Kennedy_Space_Center_Launch_Complex_39A\" title=\"Kennedy Space Center Launch Complex 39A\">LC-39A</a></li>\n",
      "<li><a class=\"mw-redirect\" href=\"/wiki/Vandenberg_Air_Force_Base\" title=\"Vandenberg Air Force Base\">Vandenberg</a>, <a href=\"/wiki/Vandenberg_Space_Launch_Complex_4\" title=\"Vandenberg Space Launch Complex 4\">SLC-4E</a></li>\n",
      "<li><i>Vandenberg, <a href=\"/wiki/Vandenberg_Space_Launch_Complex_6\" title=\"Vandenberg Space Launch Complex 6\">SLC-6</a> (future)</i></li></ul>\n",
      "</div></link></td></tr><tr><th class=\"infobox-label\" scope=\"row\">Total launches</th><td class=\"infobox-data\"><style data-mw-deduplicate=\"TemplateStyles:r1129693374\">.mw-parser-output .hlist dl,.mw-parser-output .hlist ol,.mw-parser-output .hlist ul{margin:0;padding:0}.mw-parser-output .hlist dd,.mw-parser-output .hlist dt,.mw-parser-output .hlist li{margin:0;display:inline}.mw-parser-output .hlist.inline,.mw-parser-output .hlist.inline dl,.mw-parser-output .hlist.inline ol,.mw-parser-output .hlist.inline ul,.mw-parser-output .hlist dl dl,.mw-parser-output .hlist dl ol,.mw-parser-output .hlist dl ul,.mw-parser-output .hlist ol dl,.mw-parser-output .hlist ol ol,.mw-parser-output .hlist ol ul,.mw-parser-output .hlist ul dl,.mw-parser-output .hlist ul ol,.mw-parser-output .hlist ul ul{display:inline}.mw-parser-output .hlist .mw-empty-li{display:none}.mw-parser-output .hlist dt::after{content:\": \"}.mw-parser-output .hlist dd::after,.mw-parser-output .hlist li::after{content:\" · \";font-weight:bold}.mw-parser-output .hlist dd:last-child::after,.mw-parser-output .hlist dt:last-child::after,.mw-parser-output .hlist li:last-child::after{content:none}.mw-parser-output .hlist dd dd:first-child::before,.mw-parser-output .hlist dd dt:first-child::before,.mw-parser-output .hlist dd li:first-child::before,.mw-parser-output .hlist dt dd:first-child::before,.mw-parser-output .hlist dt dt:first-child::before,.mw-parser-output .hlist dt li:first-child::before,.mw-parser-output .hlist li dd:first-child::before,.mw-parser-output .hlist li dt:first-child::before,.mw-parser-output .hlist li li:first-child::before{content:\" (\";font-weight:normal}.mw-parser-output .hlist dd dd:last-child::after,.mw-parser-output .hlist dd dt:last-child::after,.mw-parser-output .hlist dd li:last-child::after,.mw-parser-output .hlist dt dd:last-child::after,.mw-parser-output .hlist dt dt:last-child::after,.mw-parser-output .hlist dt li:last-child::after,.mw-parser-output .hlist li dd:last-child::after,.mw-parser-output .hlist li dt:last-child::after,.mw-parser-output .hlist li li:last-child::after{content:\")\";font-weight:normal}.mw-parser-output .hlist ol{counter-reset:listitem}.mw-parser-output .hlist ol>li{counter-increment:listitem}.mw-parser-output .hlist ol>li::before{content:\" \"counter(listitem)\"\\a0 \"}.mw-parser-output .hlist dd ol>li:first-child::before,.mw-parser-output .hlist dt ol>li:first-child::before,.mw-parser-output .hlist li ol>li:first-child::before{content:\" (\"counter(listitem)\"\\a0 \"}</style><div class=\"hlist\">\n",
      "<ul><li><a href=\"/wiki/List_of_Falcon_9_and_Falcon_Heavy_launches\" title=\"List of Falcon 9 and Falcon Heavy launches\">447</a>\n",
      "<ul><li><b>FT</b>: 427</li>\n",
      "<li><b>v1.1</b>: 15</li>\n",
      "<li><b>v1.0</b>: 5</li></ul></li></ul>\n",
      "</div></td></tr><tr><th class=\"infobox-label\" scope=\"row\">Success(es)</th><td class=\"infobox-data\"><link href=\"mw-data:TemplateStyles:r1129693374\" rel=\"mw-deduplicated-inline-style\"><div class=\"hlist\">\n",
      "<ul><li>444\n",
      "<ul><li><b>FT</b>: 426</li>\n",
      "<li><b>v1.1</b>: 14</li>\n",
      "<li><b>v1.0</b>: 4</li></ul></li></ul>\n",
      "</div></link></td></tr><tr><th class=\"infobox-label\" scope=\"row\">Failure(s)</th><td class=\"infobox-data\">2 (<b>v1.1</b>: <a href=\"/wiki/SpaceX_CRS-7\" title=\"SpaceX CRS-7\">CRS-7</a>, <b>FT Block 5</b>: Starlink Group 9-3)</td></tr><tr><th class=\"infobox-label\" scope=\"row\">Partial failure(s)</th><td class=\"infobox-data\">1 (<b>v1.0</b>: <a href=\"/wiki/SpaceX_CRS-1\" title=\"SpaceX CRS-1\">CRS-1</a>)</td></tr><tr><th class=\"infobox-label\" scope=\"row\">Notable outcome(s)</th><td class=\"infobox-data\">1 (<b>FT</b>: <a class=\"mw-redirect\" href=\"/wiki/AMOS-6\" title=\"AMOS-6\">AMOS-6</a> pre-flight destruction)</td></tr><tr><th class=\"infobox-label\" scope=\"row\">Landings</th><td class=\"infobox-data\">399 / 410 attempts</td></tr><tr><th class=\"infobox-label\" scope=\"row\">First flight</th><td class=\"infobox-data\"><link href=\"mw-data:TemplateStyles:r1126788409\" rel=\"mw-deduplicated-inline-style\"><div class=\"plainlist\">\n",
      "<ul><li><b>FT Block 5</b>: 11 May 2018 (<a class=\"mw-redirect\" href=\"/wiki/Bangabandhu-1\" title=\"Bangabandhu-1\">Bangabandhu-1</a>)</li>\n",
      "<li><b>FT Block 4</b>: 14 August 2017 (<a href=\"/wiki/SpaceX_CRS-12\" title=\"SpaceX CRS-12\">CRS-12</a>)</li>\n",
      "<li><b>FT</b>: 22 December 2015 (<a href=\"/wiki/Falcon_9_flight_20\" title=\"Falcon 9 flight 20\">OG2 Flight 2</a>)<sup class=\"reference\" id=\"cite_ref-nasaspaceflight.com_8-0\"><a href=\"#cite_note-nasaspaceflight.com-8\"><span class=\"cite-bracket\">[</span>8<span class=\"cite-bracket\">]</span></a></sup></li>\n",
      "<li><b>v1.1</b>: 29 September 2013 (<a href=\"/wiki/CASSIOPE\" title=\"CASSIOPE\">CASSIOPE</a>)<sup class=\"reference\" id=\"cite_ref-9\"><a href=\"#cite_note-9\"><span class=\"cite-bracket\">[</span>9<span class=\"cite-bracket\">]</span></a></sup></li>\n",
      "<li><b>v1.0</b>: 4 June 2010 (<a href=\"/wiki/Dragon_Spacecraft_Qualification_Unit\" title=\"Dragon Spacecraft Qualification Unit\">Dragon Qualification</a>)<sup class=\"reference\" id=\"cite_ref-MSDB_10-0\"><a href=\"#cite_note-MSDB-10\"><span class=\"cite-bracket\">[</span>10<span class=\"cite-bracket\">]</span></a></sup></li></ul>\n",
      "</div></link></td></tr><tr><th class=\"infobox-label\" scope=\"row\">Last flight</th><td class=\"infobox-data\"><link href=\"mw-data:TemplateStyles:r1126788409\" rel=\"mw-deduplicated-inline-style\"><div class=\"plainlist\">\n",
      "<ul><li><b>FT Block 4</b>: 29 June 2018 (<a href=\"/wiki/SpaceX_CRS-15\" title=\"SpaceX CRS-15\">CRS-15</a>)</li>\n",
      "<li><b>FT</b>: 22 February 2018 (<a href=\"/wiki/Paz_(satellite)\" title=\"Paz (satellite)\">Paz</a>/<a href=\"/wiki/List_of_Starlink_and_Starshield_launches\" title=\"List of Starlink and Starshield launches\">Tintin</a>)</li>\n",
      "<li><b>v1.1</b>: 17 January 2016 (<a href=\"/wiki/Jason-3\" title=\"Jason-3\">Jason-3</a>)</li>\n",
      "<li><b>v1.0</b>: 1 March 2013 (<a href=\"/wiki/SpaceX_CRS-2\" title=\"SpaceX CRS-2\">CRS-2</a>)</li></ul>\n",
      "</div></link></td></tr><tr><td class=\"infobox-full-data\" colspan=\"2\"><link href=\"mw-data:TemplateStyles:r1257001546\" rel=\"mw-deduplicated-inline-style\"/></td></tr><tr><th class=\"infobox-header\" colspan=\"2\" style=\"background: #ddf;\">First stage</th></tr><tr><th class=\"infobox-label\" scope=\"row\">Height</th><td class=\"infobox-data\">39.6 m (130 ft) <b>v1.0</b> 41.2 m (135 ft) <b>v1.1 &amp; FT</b></td></tr><tr><th class=\"infobox-label\" scope=\"row\">Diameter</th><td class=\"infobox-data\">3.7 m (12 ft)</td></tr><tr><th class=\"infobox-label\" scope=\"row\">Powered by</th><td class=\"infobox-data\"><link href=\"mw-data:TemplateStyles:r1126788409\" rel=\"mw-deduplicated-inline-style\"/><div class=\"plainlist\">\n",
      "<ul><li><b>FT</b>: 9 × <a href=\"/wiki/SpaceX_Merlin\" title=\"SpaceX Merlin\">Merlin 1D</a>+</li>\n",
      "<li><b>v1.1</b>: 9 × <a href=\"/wiki/SpaceX_Merlin\" title=\"SpaceX Merlin\">Merlin 1D</a></li>\n",
      "<li><b>v1.0</b>: 9 × <a href=\"/wiki/SpaceX_Merlin\" title=\"SpaceX Merlin\">Merlin 1C</a></li></ul>\n",
      "</div></td></tr><tr><th class=\"infobox-label\" scope=\"row\">Maximum thrust</th><td class=\"infobox-data\"><link href=\"mw-data:TemplateStyles:r1126788409\" rel=\"mw-deduplicated-inline-style\"/><div class=\"plainlist\">\n",
      "<ul><li><b>FT Block 5</b>: 7,600 kN (1,700,000 lb<sub>f</sub>)<sup class=\"reference\" id=\"cite_ref-falcon9-2016_11-0\"><a href=\"#cite_note-falcon9-2016-11\"><span class=\"cite-bracket\">[</span>11<span class=\"cite-bracket\">]</span></a></sup></li>\n",
      "<li><b>FT</b>: 6,800 kN (1,500,000 lb<sub>f</sub>)<sup class=\"reference\" id=\"cite_ref-falcon9-2015_2-3\"><a href=\"#cite_note-falcon9-2015-2\"><span class=\"cite-bracket\">[</span>2<span class=\"cite-bracket\">]</span></a></sup></li>\n",
      "<li><b>v1.1</b>: 5,900 kN (1,300,000 lb<sub>f</sub>)<sup class=\"reference\" id=\"cite_ref-falcon9-2013_3-4\"><a href=\"#cite_note-falcon9-2013-3\"><span class=\"cite-bracket\">[</span>3<span class=\"cite-bracket\">]</span></a></sup></li>\n",
      "<li><b>v1.0</b>: 4,900 kN (1,100,000 lb<sub>f</sub>)<sup class=\"reference\" id=\"cite_ref-falcon9-2010_4-4\"><a href=\"#cite_note-falcon9-2010-4\"><span class=\"cite-bracket\">[</span>4<span class=\"cite-bracket\">]</span></a></sup></li></ul>\n",
      "</div></td></tr><tr><th class=\"infobox-label\" scope=\"row\"><a href=\"/wiki/Specific_impulse\" title=\"Specific impulse\">Specific impulse</a></th><td class=\"infobox-data\"><link href=\"mw-data:TemplateStyles:r1126788409\" rel=\"mw-deduplicated-inline-style\"/><div class=\"plainlist\">\n",
      "<ul><li><b>v1.1</b> <abbr title=\"at sea level\">SL</abbr>: 282 s (2.77 km/s)<sup class=\"reference\" id=\"cite_ref-falcon9-v1.1-si_12-0\"><a href=\"#cite_note-falcon9-v1.1-si-12\"><span class=\"cite-bracket\">[</span>12<span class=\"cite-bracket\">]</span></a></sup></li>\n",
      "<li><b>v1.1</b> <abbr title=\"in vacuum\">vac</abbr>: 311 s (3.05 km/s)<sup class=\"reference\" id=\"cite_ref-falcon9-v1.1-si_12-1\"><a href=\"#cite_note-falcon9-v1.1-si-12\"><span class=\"cite-bracket\">[</span>12<span class=\"cite-bracket\">]</span></a></sup></li>\n",
      "<li><b>v1.0</b> <abbr title=\"at sea level\">SL</abbr>: 275 s (2.70 km/s)<sup class=\"reference\" id=\"cite_ref-falcon9-2010_4-5\"><a href=\"#cite_note-falcon9-2010-4\"><span class=\"cite-bracket\">[</span>4<span class=\"cite-bracket\">]</span></a></sup></li>\n",
      "<li><b>v1.0</b> <abbr title=\"in vacuum\">vac</abbr>: 304 s (2.98 km/s)<sup class=\"reference\" id=\"cite_ref-falcon9-2010_4-6\"><a href=\"#cite_note-falcon9-2010-4\"><span class=\"cite-bracket\">[</span>4<span class=\"cite-bracket\">]</span></a></sup></li></ul>\n",
      "</div></td></tr><tr><th class=\"infobox-label\" scope=\"row\">Burn time</th><td class=\"infobox-data\"><link href=\"mw-data:TemplateStyles:r1126788409\" rel=\"mw-deduplicated-inline-style\"/><div class=\"plainlist\">\n",
      "<ul><li><b>FT</b>: 162 seconds<sup class=\"reference\" id=\"cite_ref-falcon9-2015_2-4\"><a href=\"#cite_note-falcon9-2015-2\"><span class=\"cite-bracket\">[</span>2<span class=\"cite-bracket\">]</span></a></sup></li>\n",
      "<li><b>v1.1</b>: 180 seconds<sup class=\"reference\" id=\"cite_ref-falcon9-2013_3-5\"><a href=\"#cite_note-falcon9-2013-3\"><span class=\"cite-bracket\">[</span>3<span class=\"cite-bracket\">]</span></a></sup></li>\n",
      "<li><b>v1.0</b>: 170 seconds</li></ul>\n",
      "</div></td></tr><tr><th class=\"infobox-label\" scope=\"row\">Propellant</th><td class=\"infobox-data\"><a class=\"mw-redirect\" href=\"/wiki/LOX\" title=\"LOX\">LOX</a> / <a href=\"/wiki/RP-1\" title=\"RP-1\">RP-1</a></td><link href=\"mw-data:TemplateStyles:r1257001546\" rel=\"mw-deduplicated-inline-style\"/></tr><tr><th class=\"infobox-header\" colspan=\"2\" style=\"background: #ddf;\">Second stage</th></tr><tr><th class=\"infobox-label\" scope=\"row\">Height</th><td class=\"infobox-data\">2.4 m (7 ft 10 in) <b>v1.0</b> 13.6 m (45 ft) <b>v1.1 and FT short nozzle</b> 13.8 m (45 ft) <b>FT</b></td></tr><tr><th class=\"infobox-label\" scope=\"row\">Diameter</th><td class=\"infobox-data\">3.7 m (12 ft)</td></tr><tr><th class=\"infobox-label\" scope=\"row\">Powered by</th><td class=\"infobox-data\"><link href=\"mw-data:TemplateStyles:r1126788409\" rel=\"mw-deduplicated-inline-style\"/><div class=\"plainlist\">\n",
      "<ul><li><b>FT</b>: 1 × <a class=\"mw-redirect\" href=\"/wiki/Merlin_1D_Vacuum\" title=\"Merlin 1D Vacuum\">Merlin 1D Vacuum</a></li>\n",
      "<li><b>v1.1</b>: 1 × Merlin 1D Vacuum</li>\n",
      "<li><b>v1.0</b>: 1 × <a class=\"mw-redirect\" href=\"/wiki/Merlin_1C_Vacuum\" title=\"Merlin 1C Vacuum\">Merlin 1C Vacuum</a></li></ul>\n",
      "</div></td></tr><tr><th class=\"infobox-label\" scope=\"row\">Maximum thrust</th><td class=\"infobox-data\"><link href=\"mw-data:TemplateStyles:r1126788409\" rel=\"mw-deduplicated-inline-style\"/><div class=\"plainlist\">\n",
      "<ul><li><b>FT regular</b>: 934 kN (210,000 lb<sub>f</sub>)<sup class=\"reference\" id=\"cite_ref-falcon9-2015_2-5\"><a href=\"#cite_note-falcon9-2015-2\"><span class=\"cite-bracket\">[</span>2<span class=\"cite-bracket\">]</span></a></sup></li>\n",
      "<li><b>FT short</b>: 840 kN (190,000 lb<sub>f</sub>)</li>\n",
      "<li><b>v1.1</b>: 801 kN (180,000 lb<sub>f</sub>)<sup class=\"reference\" id=\"cite_ref-falcon9-2013_3-6\"><a href=\"#cite_note-falcon9-2013-3\"><span class=\"cite-bracket\">[</span>3<span class=\"cite-bracket\">]</span></a></sup></li>\n",
      "<li><b>v1.0</b>: 617 kN (139,000 lb<sub>f</sub>)<sup class=\"reference\" id=\"cite_ref-falcon9-2010_4-7\"><a href=\"#cite_note-falcon9-2010-4\"><span class=\"cite-bracket\">[</span>4<span class=\"cite-bracket\">]</span></a></sup></li></ul>\n",
      "</div></td></tr><tr><th class=\"infobox-label\" scope=\"row\"><a href=\"/wiki/Specific_impulse\" title=\"Specific impulse\">Specific impulse</a></th><td class=\"infobox-data\"><link href=\"mw-data:TemplateStyles:r1126788409\" rel=\"mw-deduplicated-inline-style\"/><div class=\"plainlist\">\n",
      "<ul><li><b>FT</b>: 348 s (3.41 km/s)<sup class=\"reference\" id=\"cite_ref-falcon9-2015_2-6\"><a href=\"#cite_note-falcon9-2015-2\"><span class=\"cite-bracket\">[</span>2<span class=\"cite-bracket\">]</span></a></sup></li>\n",
      "<li><b>v1.1</b>: 340 s (3.3 km/s)<sup class=\"reference\" id=\"cite_ref-falcon9-2013_3-7\"><a href=\"#cite_note-falcon9-2013-3\"><span class=\"cite-bracket\">[</span>3<span class=\"cite-bracket\">]</span></a></sup></li>\n",
      "<li><b>v1.0</b>: 342 s (3.35 km/s)<sup class=\"reference\" id=\"cite_ref-SpaceX_March_10,_2009_13-0\"><a href=\"#cite_note-SpaceX_March_10,_2009-13\"><span class=\"cite-bracket\">[</span>13<span class=\"cite-bracket\">]</span></a></sup></li></ul>\n",
      "</div></td></tr><tr><th class=\"infobox-label\" scope=\"row\">Burn time</th><td class=\"infobox-data\"><link href=\"mw-data:TemplateStyles:r1126788409\" rel=\"mw-deduplicated-inline-style\"/><div class=\"plainlist\">\n",
      "<ul><li><b>FT</b>: 397 seconds<sup class=\"reference\" id=\"cite_ref-falcon9-2015_2-7\"><a href=\"#cite_note-falcon9-2015-2\"><span class=\"cite-bracket\">[</span>2<span class=\"cite-bracket\">]</span></a></sup></li>\n",
      "<li><b>v1.1</b>: 375 seconds<sup class=\"reference\" id=\"cite_ref-falcon9-2013_3-8\"><a href=\"#cite_note-falcon9-2013-3\"><span class=\"cite-bracket\">[</span>3<span class=\"cite-bracket\">]</span></a></sup></li>\n",
      "<li><b>v1.0</b>: 345 seconds<sup class=\"reference\" id=\"cite_ref-falcon9-2010_4-8\"><a href=\"#cite_note-falcon9-2010-4\"><span class=\"cite-bracket\">[</span>4<span class=\"cite-bracket\">]</span></a></sup></li></ul>\n",
      "</div></td></tr><tr><th class=\"infobox-label\" scope=\"row\">Propellant</th><td class=\"infobox-data\">LOX / RP-1</td></tr><tr style=\"display:none\"><td colspan=\"2\">\n",
      "</td></tr><tr><td class=\"infobox-below\" colspan=\"2\"><div class=\"metadata\" style=\"text-align: right;\">[<a class=\"extiw\" href=\"https://www.wikidata.org/wiki/Q249091\" title=\"d:Q249091\">edit on Wikidata</a>]</div></td></tr></tbody></table>\n"
     ]
    }
   ],
   "source": [
    "# Use the find_all function in the BeautifulSoup object, with element type `table`\n",
    "# Assign the result to a list called `html_tables`\n",
    "\n",
    "import requests\n",
    "from bs4 import BeautifulSoup\n",
    "\n",
    "# URL of the Falcon9 Launch Wiki page\n",
    "static_url = 'https://en.wikipedia.org/wiki/Falcon_9'  # Replace with the correct URL if needed\n",
    "\n",
    "# Perform the HTTP GET request and store the response\n",
    "response = requests.get(static_url)\n",
    "\n",
    "# Check if the request was successful (status code 200)\n",
    "if response.status_code == 200:\n",
    "    print(\"Request successful\")\n",
    "    \n",
    "    # Create a BeautifulSoup object to parse the HTML content\n",
    "    soup = BeautifulSoup(response.text, 'html.parser')\n",
    "    \n",
    "    # Find all tables on the page\n",
    "    html_tables = soup.find_all('table')\n",
    "    \n",
    "    # Print the number of tables found and the first table to check\n",
    "    print(f\"Found {len(html_tables)} tables.\")\n",
    "    print(html_tables[0])  # Displaying the first table to check\n",
    "else:\n",
    "    print(f\"Request failed with status code: {response.status_code}\")\n"
   ]
  },
  {
   "cell_type": "markdown",
   "metadata": {},
   "source": [
    "Starting from the third table is our target table contains the actual launch records.\n"
   ]
  },
  {
   "cell_type": "code",
   "execution_count": 9,
   "metadata": {
    "tags": []
   },
   "outputs": [
    {
     "name": "stdout",
     "output_type": "stream",
     "text": [
      "<table class=\"wikitable\">\n",
      "<tbody><tr>\n",
      "<td>Height\n",
      "</td>\n",
      "<td>41.2 m / 135.2 ft\n",
      "</td></tr>\n",
      "<tr>\n",
      "<td>Height (with interstage)\n",
      "</td>\n",
      "<td>47.7 m / 156.5 ft\n",
      "</td></tr>\n",
      "<tr>\n",
      "<td>Diameter\n",
      "</td>\n",
      "<td>3.7 m / 12 ft\n",
      "</td></tr>\n",
      "<tr>\n",
      "<td>Empty Mass\n",
      "</td>\n",
      "<td>25,600 kg / 56,423 lb\n",
      "</td></tr>\n",
      "<tr>\n",
      "<td>Propellant Mass\n",
      "</td>\n",
      "<td>395,700 kg/ 872,369 lb\n",
      "</td></tr>\n",
      "<tr>\n",
      "<td>Structure Type\n",
      "</td>\n",
      "<td>LOX tank: <a href=\"/wiki/Monocoque\" title=\"Monocoque\">monocoque</a>\n",
      "</td></tr>\n",
      "<tr>\n",
      "<td>\n",
      "</td>\n",
      "<td>Fuel tank: skin and stringer\n",
      "</td></tr>\n",
      "<tr>\n",
      "<td>Structure Material\n",
      "</td>\n",
      "<td>Aluminum lithium skin; aluminum domes\n",
      "</td></tr>\n",
      "<tr>\n",
      "<td>Landing Legs\n",
      "</td>\n",
      "<td>Number: 4\n",
      "</td></tr>\n",
      "<tr>\n",
      "<td>\n",
      "</td>\n",
      "<td>Material: <a class=\"mw-redirect\" href=\"/wiki/Carbon_fiber\" title=\"Carbon fiber\">carbon fiber</a>; <a class=\"mw-redirect\" href=\"/wiki/Aluminum_honeycomb\" title=\"Aluminum honeycomb\">aluminum honeycomb</a>\n",
      "</td></tr>\n",
      "<tr>\n",
      "<td>Number of Merlin Engines\n",
      "</td>\n",
      "<td>9 sea level\n",
      "</td></tr>\n",
      "<tr>\n",
      "<td>Propellant\n",
      "</td>\n",
      "<td>LOX / RP-1\n",
      "</td></tr>\n",
      "<tr>\n",
      "<td>Thrust at Sea Level\n",
      "</td>\n",
      "<td>7,607 kN / 1,710,000 lbf\n",
      "</td></tr>\n",
      "<tr>\n",
      "<td>Thrust in Vacuum\n",
      "</td>\n",
      "<td>8,227 kN / 1,849,500 lbf\n",
      "</td></tr>\n",
      "<tr>\n",
      "<td>Specific Impulse (sea-level)\n",
      "</td>\n",
      "<td>283 sec.\n",
      "</td></tr>\n",
      "<tr>\n",
      "<td>Specific Impulse (vacuum sec)\n",
      "</td>\n",
      "<td>312 sec.\n",
      "</td></tr>\n",
      "<tr>\n",
      "<td>Burn Time\n",
      "</td>\n",
      "<td>162 sec.\n",
      "</td></tr>\n",
      "<tr>\n",
      "<td>Ascent Attitude Control – Pitch, Yaw\n",
      "</td>\n",
      "<td>Gimbaled engines\n",
      "</td></tr>\n",
      "<tr>\n",
      "<td>Ascent Attitude Control – Roll\n",
      "</td>\n",
      "<td>Gimbaled engines\n",
      "</td></tr>\n",
      "<tr>\n",
      "<td>Coast/Descent Attitude Control\n",
      "</td>\n",
      "<td>Nitrogen gas thrusters and grid fins\n",
      "</td></tr></tbody></table>\n"
     ]
    }
   ],
   "source": [
    "# Let's print the third table and check its content\n",
    "first_launch_table = html_tables[2]\n",
    "print(first_launch_table)"
   ]
  },
  {
   "cell_type": "markdown",
   "metadata": {},
   "source": [
    "You should able to see the columns names embedded in the table header elements `<th>` as follows:\n"
   ]
  },
  {
   "cell_type": "markdown",
   "metadata": {},
   "source": [
    "```\n",
    "<tr>\n",
    "<th scope=\"col\">Flight No.\n",
    "</th>\n",
    "<th scope=\"col\">Date and<br/>time (<a href=\"/wiki/Coordinated_Universal_Time\" title=\"Coordinated Universal Time\">UTC</a>)\n",
    "</th>\n",
    "<th scope=\"col\"><a href=\"/wiki/List_of_Falcon_9_first-stage_boosters\" title=\"List of Falcon 9 first-stage boosters\">Version,<br/>Booster</a> <sup class=\"reference\" id=\"cite_ref-booster_11-0\"><a href=\"#cite_note-booster-11\">[b]</a></sup>\n",
    "</th>\n",
    "<th scope=\"col\">Launch site\n",
    "</th>\n",
    "<th scope=\"col\">Payload<sup class=\"reference\" id=\"cite_ref-Dragon_12-0\"><a href=\"#cite_note-Dragon-12\">[c]</a></sup>\n",
    "</th>\n",
    "<th scope=\"col\">Payload mass\n",
    "</th>\n",
    "<th scope=\"col\">Orbit\n",
    "</th>\n",
    "<th scope=\"col\">Customer\n",
    "</th>\n",
    "<th scope=\"col\">Launch<br/>outcome\n",
    "</th>\n",
    "<th scope=\"col\"><a href=\"/wiki/Falcon_9_first-stage_landing_tests\" title=\"Falcon 9 first-stage landing tests\">Booster<br/>landing</a>\n",
    "</th></tr>\n",
    "```\n"
   ]
  },
  {
   "cell_type": "markdown",
   "metadata": {},
   "source": [
    "Next, we just need to iterate through the `<th>` elements and apply the provided `extract_column_from_header()` to extract column name one by one\n"
   ]
  },
  {
   "cell_type": "code",
   "execution_count": 11,
   "metadata": {
    "tags": []
   },
   "outputs": [
    {
     "name": "stdout",
     "output_type": "stream",
     "text": [
      "[]\n"
     ]
    }
   ],
   "source": [
    "column_names = []\n",
    "\n",
    "# Apply find_all() function with `th` element on first_launch_table\n",
    "# Iterate each th element and apply the provided extract_column_from_header() to get a column name\n",
    "# Append the Non-empty column name (`if name is not None and len(name) > 0`) into a list called column_names\n",
    "\n",
    "from bs4 import BeautifulSoup\n",
    "\n",
    "# Assuming 'first_launch_table' is already extracted as per the previous task\n",
    "# Now, let's extract column names from the <th> elements in the header row\n",
    "\n",
    "# Extract all the <th> elements from the table header\n",
    "header_columns = first_launch_table.find_all('th')\n",
    "\n",
    "# Define a function to extract the cleaned column name\n",
    "def extract_column_from_header(th_element):\n",
    "    if th_element:\n",
    "        # Clean up the column name by extracting the text and stripping any surrounding whitespace\n",
    "        return th_element.get_text(strip=True)\n",
    "    return None\n",
    "\n",
    "# List to store the column names\n",
    "column_names = []\n",
    "\n",
    "# Iterate through each <th> element and extract the column names\n",
    "for th in header_columns:\n",
    "    column_name = extract_column_from_header(th)\n",
    "    if column_name and len(column_name) > 0:\n",
    "        column_names.append(column_name)\n",
    "\n",
    "# Print the extracted column names\n",
    "print(column_names)\n",
    "\n"
   ]
  },
  {
   "cell_type": "markdown",
   "metadata": {},
   "source": [
    "Check the extracted column names\n"
   ]
  },
  {
   "cell_type": "code",
   "execution_count": 17,
   "metadata": {
    "tags": []
   },
   "outputs": [
    {
     "name": "stdout",
     "output_type": "stream",
     "text": [
      "<table class=\"wikitable\">\n",
      "<tbody><tr>\n",
      "<td>Height\n",
      "</td>\n",
      "<td>41.2 m / 135.2 ft\n",
      "</td></tr>\n",
      "<tr>\n",
      "<td>Height (with interstage)\n",
      "</td>\n",
      "<td>47.7 m / 156.5 ft\n",
      "</td></tr>\n",
      "<tr>\n",
      "<td>Diameter\n",
      "</td>\n",
      "<td>3.7 m / 12 ft\n",
      "</td></tr>\n",
      "<tr>\n",
      "<td>Empty Mass\n",
      "</td>\n",
      "<td>25,600 kg / 56,423 lb\n",
      "</td></tr>\n",
      "<tr>\n",
      "<td>Propellant Mass\n",
      "</td>\n",
      "<td>395,700 kg/ 872,369 lb\n",
      "</td></tr>\n",
      "<tr>\n",
      "<td>Structure Type\n",
      "</td>\n",
      "<td>LOX tank: <a href=\"/wiki/Monocoque\" title=\"Monocoque\">monocoque</a>\n",
      "</td></tr>\n",
      "<tr>\n",
      "<td>\n",
      "</td>\n",
      "<td>Fuel tank: skin and stringer\n",
      "</td></tr>\n",
      "<tr>\n",
      "<td>Structure Material\n",
      "</td>\n",
      "<td>Aluminum lithium skin; aluminum domes\n",
      "</td></tr>\n",
      "<tr>\n",
      "<td>Landing Legs\n",
      "</td>\n",
      "<td>Number: 4\n",
      "</td></tr>\n",
      "<tr>\n",
      "<td>\n",
      "</td>\n",
      "<td>Material: <a class=\"mw-redirect\" href=\"/wiki/Carbon_fiber\" title=\"Carbon fiber\">carbon fiber</a>; <a class=\"mw-redirect\" href=\"/wiki/Aluminum_honeycomb\" title=\"Aluminum honeycomb\">aluminum honeycomb</a>\n",
      "</td></tr>\n",
      "<tr>\n",
      "<td>Number of Merlin Engines\n",
      "</td>\n",
      "<td>9 sea level\n",
      "</td></tr>\n",
      "<tr>\n",
      "<td>Propellant\n",
      "</td>\n",
      "<td>LOX / RP-1\n",
      "</td></tr>\n",
      "<tr>\n",
      "<td>Thrust at Sea Level\n",
      "</td>\n",
      "<td>7,607 kN / 1,710,000 lbf\n",
      "</td></tr>\n",
      "<tr>\n",
      "<td>Thrust in Vacuum\n",
      "</td>\n",
      "<td>8,227 kN / 1,849,500 lbf\n",
      "</td></tr>\n",
      "<tr>\n",
      "<td>Specific Impulse (sea-level)\n",
      "</td>\n",
      "<td>283 sec.\n",
      "</td></tr>\n",
      "<tr>\n",
      "<td>Specific Impulse (vacuum sec)\n",
      "</td>\n",
      "<td>312 sec.\n",
      "</td></tr>\n",
      "<tr>\n",
      "<td>Burn Time\n",
      "</td>\n",
      "<td>162 sec.\n",
      "</td></tr>\n",
      "<tr>\n",
      "<td>Ascent Attitude Control – Pitch, Yaw\n",
      "</td>\n",
      "<td>Gimbaled engines\n",
      "</td></tr>\n",
      "<tr>\n",
      "<td>Ascent Attitude Control – Roll\n",
      "</td>\n",
      "<td>Gimbaled engines\n",
      "</td></tr>\n",
      "<tr>\n",
      "<td>Coast/Descent Attitude Control\n",
      "</td>\n",
      "<td>Nitrogen gas thrusters and grid fins\n",
      "</td></tr></tbody></table>\n",
      "Number of <th> elements found: 0\n",
      "Extracted Column Names: []\n"
     ]
    }
   ],
   "source": [
    "# Print the first launch table to inspect its content\n",
    "print(first_launch_table)\n",
    "\n",
    "# Extract all the <th> elements from the table header\n",
    "header_columns = first_launch_table.find_all('th')\n",
    "\n",
    "# Check what the header columns look like\n",
    "print(f\"Number of <th> elements found: {len(header_columns)}\")\n",
    "for th in header_columns:\n",
    "    print(th)\n",
    "\n",
    "# Define a function to extract the cleaned column name\n",
    "def extract_column_from_header(th_element):\n",
    "    if th_element:\n",
    "        # Clean up the column name by extracting the text and stripping any surrounding whitespace\n",
    "        return th_element.get_text(strip=True)\n",
    "    return None\n",
    "\n",
    "# List to store the column names\n",
    "column_names = []\n",
    "\n",
    "# Iterate through each <th> element and extract the column names\n",
    "for th in header_columns:\n",
    "    column_name = extract_column_from_header(th)\n",
    "    if column_name and len(column_name) > 0:\n",
    "        column_names.append(column_name)\n",
    "\n",
    "# Print the extracted column names\n",
    "print(\"Extracted Column Names:\", column_names)\n"
   ]
  },
  {
   "cell_type": "markdown",
   "metadata": {},
   "source": [
    "## TASK 3: Create a data frame by parsing the launch HTML tables\n"
   ]
  },
  {
   "cell_type": "markdown",
   "metadata": {},
   "source": [
    "We will create an empty dictionary with keys from the extracted column names in the previous task. Later, this dictionary will be converted into a Pandas dataframe\n"
   ]
  },
  {
   "cell_type": "code",
   "execution_count": null,
   "metadata": {},
   "outputs": [],
   "source": [
    "launch_dict= dict.fromkeys(column_names)\n",
    "\n",
    "# Remove an irrelvant column\n",
    "del launch_dict['Date and time ( )']\n",
    "\n",
    "# Let's initial the launch_dict with each value to be an empty list\n",
    "launch_dict['Flight No.'] = []\n",
    "launch_dict['Launch site'] = []\n",
    "launch_dict['Payload'] = []\n",
    "launch_dict['Payload mass'] = []\n",
    "launch_dict['Orbit'] = []\n",
    "launch_dict['Customer'] = []\n",
    "launch_dict['Launch outcome'] = []\n",
    "# Added some new columns\n",
    "launch_dict['Version Booster']=[]\n",
    "launch_dict['Booster landing']=[]\n",
    "launch_dict['Date']=[]\n",
    "launch_dict['Time']=[]"
   ]
  },
  {
   "cell_type": "markdown",
   "metadata": {},
   "source": [
    "Next, we just need to fill up the `launch_dict` with launch records extracted from table rows.\n"
   ]
  },
  {
   "cell_type": "markdown",
   "metadata": {},
   "source": [
    "Usually, HTML tables in Wiki pages are likely to contain unexpected annotations and other types of noises, such as reference links `B0004.1[8]`, missing values `N/A [e]`, inconsistent formatting, etc.\n"
   ]
  },
  {
   "cell_type": "markdown",
   "metadata": {},
   "source": [
    "To simplify the parsing process, we have provided an incomplete code snippet below to help you to fill up the `launch_dict`. Please complete the following code snippet with TODOs or you can choose to write your own logic to parse all launch tables:\n"
   ]
  },
  {
   "cell_type": "code",
   "execution_count": 21,
   "metadata": {
    "tags": []
   },
   "outputs": [
    {
     "data": {
      "text/html": [
       "<div>\n",
       "<style scoped>\n",
       "    .dataframe tbody tr th:only-of-type {\n",
       "        vertical-align: middle;\n",
       "    }\n",
       "\n",
       "    .dataframe tbody tr th {\n",
       "        vertical-align: top;\n",
       "    }\n",
       "\n",
       "    .dataframe thead th {\n",
       "        text-align: right;\n",
       "    }\n",
       "</style>\n",
       "<table border=\"1\" class=\"dataframe\">\n",
       "  <thead>\n",
       "    <tr style=\"text-align: right;\">\n",
       "      <th></th>\n",
       "      <th>Flight No.</th>\n",
       "      <th>Launch site</th>\n",
       "      <th>Payload</th>\n",
       "      <th>Payload mass</th>\n",
       "      <th>Orbit</th>\n",
       "      <th>Customer</th>\n",
       "      <th>Launch outcome</th>\n",
       "      <th>Version Booster</th>\n",
       "      <th>Booster landing</th>\n",
       "      <th>Date</th>\n",
       "      <th>Time</th>\n",
       "    </tr>\n",
       "  </thead>\n",
       "  <tbody>\n",
       "  </tbody>\n",
       "</table>\n",
       "</div>"
      ],
      "text/plain": [
       "Empty DataFrame\n",
       "Columns: [Flight No., Launch site, Payload, Payload mass, Orbit, Customer, Launch outcome, Version Booster, Booster landing, Date, Time]\n",
       "Index: []"
      ]
     },
     "execution_count": 21,
     "metadata": {},
     "output_type": "execute_result"
    }
   ],
   "source": [
    "import pandas as pd\n",
    "\n",
    "# Initialize an empty dictionary with keys as column names\n",
    "launch_dict = dict.fromkeys(column_names)\n",
    "\n",
    "# Check if the key 'Date and time ( )' exists before deleting it\n",
    "if 'Date and time ( )' in launch_dict:\n",
    "    del launch_dict['Date and time ( )']\n",
    "\n",
    "# Initialize the dictionary with empty lists\n",
    "launch_dict['Flight No.'] = []\n",
    "launch_dict['Launch site'] = []\n",
    "launch_dict['Payload'] = []\n",
    "launch_dict['Payload mass'] = []\n",
    "launch_dict['Orbit'] = []\n",
    "launch_dict['Customer'] = []\n",
    "launch_dict['Launch outcome'] = []\n",
    "launch_dict['Version Booster'] = []\n",
    "launch_dict['Booster landing'] = []\n",
    "launch_dict['Date'] = []\n",
    "launch_dict['Time'] = []\n",
    "\n",
    "# Function to parse date and time from the date_time column\n",
    "def date_time(date_str):\n",
    "    # Splitting the date and time\n",
    "    try:\n",
    "        date_list = date_str.split(' ')  # Example: \"Jan 1, 2020 12:00\"\n",
    "        return [date_list[0], date_list[1]]  # [Date, Time]\n",
    "    except Exception as e:\n",
    "        return [\"N/A\", \"N/A\"]\n",
    "\n",
    "# Function to extract booster version\n",
    "def booster_version(booster_str):\n",
    "    # Extract booster version if present\n",
    "    if booster_str and 'booster' in booster_str.lower():\n",
    "        return booster_str.get_text(strip=True)\n",
    "    return None\n",
    "\n",
    "# Function to extract payload mass (this is just an example)\n",
    "def get_mass(mass_str):\n",
    "    # Example logic for extracting mass\n",
    "    if mass_str:\n",
    "        mass = mass_str.get_text(strip=True)\n",
    "        return mass if mass != 'N/A' else None\n",
    "    return None\n",
    "\n",
    "# Function to extract landing status of the booster\n",
    "def landing_status(landing_str):\n",
    "    # Example logic to determine landing status\n",
    "    if landing_str and 'landed' in landing_str.lower():\n",
    "        return 'Landed'\n",
    "    elif landing_str and 'failed' in landing_str.lower():\n",
    "        return 'Failed'\n",
    "    else:\n",
    "        return 'Unknown'\n",
    "\n",
    "# Extract each table\n",
    "extracted_row = 0\n",
    "for table_number, table in enumerate(soup.find_all('table', \"wikitable plainrowheaders collapsible\")):\n",
    "    # Iterate through table rows\n",
    "    for rows in table.find_all(\"tr\"):\n",
    "        # Check if the row has a header cell with a flight number\n",
    "        if rows.th:\n",
    "            if rows.th.string:\n",
    "                flight_number = rows.th.string.strip()\n",
    "                flag = flight_number.isdigit()\n",
    "        else:\n",
    "            flag = False\n",
    "        \n",
    "        # Get table elements (cells) from the row\n",
    "        row = rows.find_all('td')\n",
    "        \n",
    "        # If it's a valid row (flag=True), extract data and append to the dictionary\n",
    "        if flag:\n",
    "            extracted_row += 1\n",
    "\n",
    "            # Flight Number value\n",
    "            launch_dict['Flight No.'].append(flight_number)\n",
    "\n",
    "            # Date and Time\n",
    "            datatimelist = date_time(row[0].text)\n",
    "            launch_dict['Date'].append(datatimelist[0].strip(','))\n",
    "            launch_dict['Time'].append(datatimelist[1])\n",
    "\n",
    "            # Booster Version\n",
    "            bv = booster_version(row[1])\n",
    "            if not bv:\n",
    "                bv = row[1].a.string if row[1].a else None\n",
    "            launch_dict['Version Booster'].append(bv)\n",
    "\n",
    "            # Launch Site\n",
    "            launch_site = row[2].a.string if row[2].a else None\n",
    "            launch_dict['Launch site'].append(launch_site)\n",
    "\n",
    "            # Payload\n",
    "            payload = row[3].a.string if row[3].a else None\n",
    "            launch_dict['Payload'].append(payload)\n",
    "\n",
    "            # Payload Mass\n",
    "            payload_mass = get_mass(row[4])\n",
    "            launch_dict['Payload mass'].append(payload_mass)\n",
    "\n",
    "            # Orbit\n",
    "            orbit = row[5].a.string if row[5].a else None\n",
    "            launch_dict['Orbit'].append(orbit)\n",
    "\n",
    "            # Customer\n",
    "            customer = row[6].a.string if row[6].a else None\n",
    "            launch_dict['Customer'].append(customer)\n",
    "\n",
    "            # Launch Outcome\n",
    "            launch_outcome = list(row[7].strings)[0] if row[7] else 'Unknown'\n",
    "            launch_dict['Launch outcome'].append(launch_outcome)\n",
    "\n",
    "            # Booster Landing\n",
    "            booster_landing = landing_status(row[8])\n",
    "            launch_dict['Booster landing'].append(booster_landing)\n",
    "\n",
    "# Convert the dictionary into a DataFrame\n",
    "launch_df = pd.DataFrame(launch_dict)\n",
    "\n",
    "# Display the DataFrame\n",
    "launch_df.head()\n"
   ]
  },
  {
   "cell_type": "markdown",
   "metadata": {},
   "source": [
    "After you have fill in the parsed launch record values into `launch_dict`, you can create a dataframe from it.\n"
   ]
  },
  {
   "cell_type": "code",
   "execution_count": 23,
   "metadata": {
    "tags": []
   },
   "outputs": [
    {
     "data": {
      "text/html": [
       "<div>\n",
       "<style scoped>\n",
       "    .dataframe tbody tr th:only-of-type {\n",
       "        vertical-align: middle;\n",
       "    }\n",
       "\n",
       "    .dataframe tbody tr th {\n",
       "        vertical-align: top;\n",
       "    }\n",
       "\n",
       "    .dataframe thead th {\n",
       "        text-align: right;\n",
       "    }\n",
       "</style>\n",
       "<table border=\"1\" class=\"dataframe\">\n",
       "  <thead>\n",
       "    <tr style=\"text-align: right;\">\n",
       "      <th></th>\n",
       "      <th>Flight No.</th>\n",
       "      <th>Launch site</th>\n",
       "      <th>Payload</th>\n",
       "      <th>Payload mass</th>\n",
       "      <th>Orbit</th>\n",
       "      <th>Customer</th>\n",
       "      <th>Launch outcome</th>\n",
       "      <th>Version Booster</th>\n",
       "      <th>Booster landing</th>\n",
       "      <th>Date</th>\n",
       "      <th>Time</th>\n",
       "    </tr>\n",
       "  </thead>\n",
       "  <tbody>\n",
       "  </tbody>\n",
       "</table>\n",
       "</div>"
      ],
      "text/plain": [
       "Empty DataFrame\n",
       "Columns: [Flight No., Launch site, Payload, Payload mass, Orbit, Customer, Launch outcome, Version Booster, Booster landing, Date, Time]\n",
       "Index: []"
      ]
     },
     "execution_count": 23,
     "metadata": {},
     "output_type": "execute_result"
    }
   ],
   "source": [
    "# Create DataFrame from launch_dict while explicitly specifying the dtype for Series\n",
    "df = pd.DataFrame({key: pd.Series(value, dtype=\"object\") for key, value in launch_dict.items()})\n",
    "\n",
    "# Display the DataFrame\n",
    "df.head()\n"
   ]
  },
  {
   "cell_type": "markdown",
   "metadata": {},
   "source": [
    "We can now export it to a <b>CSV</b> for the next section, but to make the answers consistent and in case you have difficulties finishing this lab. \n",
    "\n",
    "Following labs will be using a provided dataset to make each lab independent. \n"
   ]
  },
  {
   "cell_type": "markdown",
   "metadata": {},
   "source": [
    "<code>df.to_csv('spacex_web_scraped.csv', index=False)</code>\n"
   ]
  },
  {
   "cell_type": "markdown",
   "metadata": {},
   "source": [
    "## Authors\n"
   ]
  },
  {
   "cell_type": "markdown",
   "metadata": {},
   "source": [
    "<a href=\"https://www.linkedin.com/in/yan-luo-96288783/\">Yan Luo</a>\n"
   ]
  },
  {
   "cell_type": "markdown",
   "metadata": {},
   "source": [
    "<a href=\"https://www.linkedin.com/in/nayefaboutayoun/\">Nayef Abou Tayoun</a>\n"
   ]
  },
  {
   "cell_type": "markdown",
   "metadata": {},
   "source": [
    "<!--\n",
    "## Change Log\n",
    "-->\n"
   ]
  },
  {
   "cell_type": "markdown",
   "metadata": {},
   "source": [
    "<!--\n",
    "| Date (YYYY-MM-DD) | Version | Changed By | Change Description      |\n",
    "| ----------------- | ------- | ---------- | ----------------------- |\n",
    "| 2021-06-09        | 1.0     | Yan Luo    | Tasks updates           |\n",
    "| 2020-11-10        | 1.0     | Nayef      | Created the initial version |\n",
    "-->\n"
   ]
  },
  {
   "cell_type": "markdown",
   "metadata": {},
   "source": [
    "Copyright © 2021 IBM Corporation. All rights reserved.\n"
   ]
  }
 ],
 "metadata": {
  "kernelspec": {
   "display_name": "Python",
   "language": "python",
   "name": "conda-env-python-py"
  },
  "language_info": {
   "codemirror_mode": {
    "name": "ipython",
    "version": 3
   },
   "file_extension": ".py",
   "mimetype": "text/x-python",
   "name": "python",
   "nbconvert_exporter": "python",
   "pygments_lexer": "ipython3",
   "version": "3.7.12"
  },
  "prev_pub_hash": "64f1b0aac408997185c47caba18730e0028b75e7934a0e5bf0ae73c5cb7ba677"
 },
 "nbformat": 4,
 "nbformat_minor": 4
}
